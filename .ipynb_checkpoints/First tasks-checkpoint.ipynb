{
 "cells": [
  {
   "cell_type": "code",
   "execution_count": 1,
   "metadata": {},
   "outputs": [
    {
     "name": "stdout",
     "output_type": "stream",
     "text": [
      "419\n"
     ]
    }
   ],
   "source": [
    "from skimage.io import imread, imshow, imsave\n",
    "img = imread(\"https://stepik.org/media/attachments/lesson/58180/img.png\")\n",
    "print(img.shape[1])"
   ]
  },
  {
   "cell_type": "code",
   "execution_count": 8,
   "metadata": {},
   "outputs": [],
   "source": [
    "from skimage.io import imread, imshow, imsave\n",
    "img = imread(\"https://stepik.org/media/attachments/lesson/58180/tiger-color.png\")\n",
    "r = img.shape[0] // 2\n",
    "c = img.shape[1] // 2\n",
    "img[r, c] = [102, 204, 102]\n",
    "imsave(\"out_img.png\", img)\n"
   ]
  },
  {
   "cell_type": "code",
   "execution_count": 9,
   "metadata": {},
   "outputs": [],
   "source": [
    "from skimage.io import imread, imshow, imsave\n",
    "img = imread('https://stepik.org/media/attachments/lesson/58180/tiger-gray.png')\n",
    "x=img.shape[0]//2\n",
    "y=img.shape[1]//2\n",
    "img[x-3:x+4,y-7:y+8]=[255, 192, 203]\n",
    "imsave('out_img1.png', img)"
   ]
  },
  {
   "cell_type": "code",
   "execution_count": 10,
   "metadata": {},
   "outputs": [
    {
     "name": "stdout",
     "output_type": "stream",
     "text": [
      "1 39 25 7\n"
     ]
    }
   ],
   "source": [
    "from skimage.io import imread, imshow, imsave\n",
    "img = imread(\"https://stepik.org/media/attachments/lesson/58180/tiger-border.png\")\n",
    "\n",
    "status_left = 1\n",
    "\n",
    "for r in range(img.shape[0]):\n",
    "    if status_left == 0:\n",
    "        break\n",
    "    for c in range(img.shape[1]):\n",
    "        if list(img[r][c]) != list(img[0][0]):\n",
    "            status_left = 0\n",
    "            left = c\n",
    "            break\n",
    "            \n",
    "status_right = 1\n",
    "\n",
    "for r in range(img.shape[0] - 1, 0, -1):\n",
    "    if status_right == 0:\n",
    "        break\n",
    "    for c in range(img.shape[1] - 1, 0, -1):\n",
    "        if list(img[r][c]) != list(img[0][0]):\n",
    "            status_right = 0\n",
    "            right = img.shape[1] - c - 1\n",
    "            break\n",
    "            \n",
    "status_top = 1\n",
    "\n",
    "for c in range(img.shape[1]):\n",
    "    if status_top == 0:\n",
    "        break\n",
    "    for r in range(img.shape[0]):\n",
    "        if list(img[r][c]) != list(img[0][0]):\n",
    "            status_top = 0\n",
    "            top = r\n",
    "            break\n",
    "            \n",
    "status_bot = 1\n",
    "\n",
    "for c in range(img.shape[1] - 1, 0, -1):\n",
    "    if status_bot == 0:\n",
    "        break\n",
    "    for r in range(img.shape[0] - 1, 0, -1):\n",
    "        if list(img[r][c]) != list(img[0][0]):\n",
    "            status_bot = 0\n",
    "            bot = img.shape[0] - r - 1\n",
    "            break\n",
    "            \n",
    "print(left, top, right, bot)"
   ]
  },
  {
   "cell_type": "code",
   "execution_count": 11,
   "metadata": {},
   "outputs": [
    {
     "name": "stderr",
     "output_type": "stream",
     "text": [
      "Lossy conversion from float64 to uint8. Range [0, 1]. Convert image to uint8 prior to saving to suppress this warning.\n"
     ]
    }
   ],
   "source": [
    "from skimage.io import imread, imshow, imsave\n",
    "from numpy import clip\n",
    "from skimage import img_as_float\n",
    "img = imread(\"https://stepik.org/media/attachments/lesson/58181/tiger-color.png\")\n",
    "img_f = img_as_float(img)\n",
    "imsave(\"out_img2.png\", clip(img_f.max() - img_f, 0, 1))"
   ]
  },
  {
   "cell_type": "code",
   "execution_count": 12,
   "metadata": {},
   "outputs": [
    {
     "name": "stderr",
     "output_type": "stream",
     "text": [
      "Lossy conversion from float64 to uint8. Range [0, 1]. Convert image to uint8 prior to saving to suppress this warning.\n"
     ]
    }
   ],
   "source": [
    "from skimage.io import imread, imshow, imsave\n",
    "from skimage import img_as_float\n",
    "from numpy import dstack\n",
    "img = imread(\"https://stepik.org/media/attachments/lesson/58181/tiger-color.png\")\n",
    "img_f = img_as_float(img)\n",
    "r = img_f[:, :, 0]\n",
    "g = img_f[:, :, 1]\n",
    "b = img_f[:, :, 2]\n",
    "img_brg = dstack((b, r, g))\n",
    "imsave('out_img3.png', img_brg)\n",
    "\n",
    "\n"
   ]
  },
  {
   "cell_type": "code",
   "execution_count": 13,
   "metadata": {},
   "outputs": [
    {
     "name": "stderr",
     "output_type": "stream",
     "text": [
      "/Users/vladimir/anaconda3/lib/python3.7/site-packages/skimage/util/dtype.py:135: UserWarning: Possible precision loss when converting from float64 to uint8\n",
      "  .format(dtypeobj_in, dtypeobj_out))\n"
     ]
    }
   ],
   "source": [
    "from skimage.io import imread, imshow, imsave\n",
    "from skimage import img_as_float, img_as_ubyte\n",
    "img = imread(\"https://stepik.org/media/attachments/lesson/58181/tiger-color.png\")\n",
    "img_f = img_as_float(img)\n",
    "r = img_f[:, :, 0]\n",
    "g = img_f[:, :, 1]\n",
    "b = img_f[:, :, 2]\n",
    "gray_img = r * 0.2126 + g * 0.7152 + b * 0.0722\n",
    "new_gray_img = img_as_ubyte(gray_img)\n",
    "imsave('out_img4.png', new_gray_img)\n",
    "\n"
   ]
  },
  {
   "cell_type": "code",
   "execution_count": null,
   "metadata": {},
   "outputs": [],
   "source": []
  }
 ],
 "metadata": {
  "kernelspec": {
   "display_name": "Python 3",
   "language": "python",
   "name": "python3"
  },
  "language_info": {
   "codemirror_mode": {
    "name": "ipython",
    "version": 3
   },
   "file_extension": ".py",
   "mimetype": "text/x-python",
   "name": "python",
   "nbconvert_exporter": "python",
   "pygments_lexer": "ipython3",
   "version": "3.7.3"
  }
 },
 "nbformat": 4,
 "nbformat_minor": 1
}
