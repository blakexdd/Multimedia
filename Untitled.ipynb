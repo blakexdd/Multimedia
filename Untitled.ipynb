{
 "cells": [
  {
   "cell_type": "code",
   "execution_count": 114,
   "metadata": {},
   "outputs": [],
   "source": [
    "# Multimedia lab\n",
    "# Purpose: To implement uniform quantization\n",
    "\n",
    "import numpy as np\n",
    "from skimage.io import imshow, imread\n",
    "from skimage import img_as_float, img_as_ubyte\n",
    "\n",
    "# Quantization function\n",
    "# Arguments:\n",
    "#. - original image in numerical form\n",
    "#.  and step of quantizing\n",
    "#.     img : np.array, step : int\n",
    "# Returns:\n",
    "#. - quantized image\n",
    "#.     img\n",
    "def quntize(img : np.array, step : int):\n",
    "    # scaling picture color to float range from\n",
    "    # 0 to 1\n",
    "    img_f = img_as_float(img)\n",
    "    \n",
    "    # getting color channels\n",
    "    r = img_f[:, :, 0]\n",
    "    g = img_f[:, :, 1]\n",
    "    b = img_f[:, :, 2]\n",
    "    \n",
    "    # converting image to gray scale \n",
    "    gray_img = r * 0.2126 + g * 0.7152 + b * 0.0722\n",
    "    \n",
    "    # converting colors back to 0..255\n",
    "    gray_img = img_as_ubyte(gray_img)\n",
    "    \n",
    "    # making a partition and filling\n",
    "    for row in range(0, gray_img.shape[0], step):\n",
    "        for col in range(0, gray_img.shape[1], step):\n",
    "            average = gray_img[row : row + step, col : col + step].mean()\n",
    "            gray_img[row : row + step, col : col + step] = average\n",
    "            \n",
    "    return gray_img"
   ]
  },
  {
   "cell_type": "code",
   "execution_count": 115,
   "metadata": {},
   "outputs": [],
   "source": [
    "img = imread('https://stepik.org/media/attachments/lesson/58181/tiger-color.png')"
   ]
  },
  {
   "cell_type": "code",
   "execution_count": 122,
   "metadata": {},
   "outputs": [],
   "source": [
    "new_img = quntize(img, 16)"
   ]
  },
  {
   "cell_type": "code",
   "execution_count": 123,
   "metadata": {},
   "outputs": [
    {
     "data": {
      "text/plain": [
       "<matplotlib.image.AxesImage at 0x1c1db48eb8>"
      ]
     },
     "execution_count": 123,
     "metadata": {},
     "output_type": "execute_result"
    },
    {
     "data": {
      "image/png": "[encoded data removed]",
      "text/plain": [
       "<Figure size 432x288 with 1 Axes>"
      ]
     },
     "metadata": {
      "needs_background": "light"
     },
     "output_type": "display_data"
    }
   ],
   "source": [
    "%matplotlib inline\n",
    "imshow(new_img)"
   ]
  },
  {
   "cell_type": "code",
   "execution_count": 101,
   "metadata": {},
   "outputs": [
    {
     "data": {
      "text/plain": [
       "array([[ 37,  37,  37, ...,  37,  37,  37],\n",
       "       [ 37,  37,  37, ...,  37,  37,  37],\n",
       "       [ 38,  38,  38, ...,  38,  38,  38],\n",
       "       ...,\n",
       "       [111, 111, 111, ..., 111, 111, 111],\n",
       "       [ 97,  97,  97, ...,  97,  97,  97],\n",
       "       [ 97,  97,  97, ...,  97,  97,  97]], dtype=uint8)"
      ]
     },
     "execution_count": 101,
     "metadata": {},
     "output_type": "execute_result"
    }
   ],
   "source": [
    "new_img"
   ]
  },
  {
   "cell_type": "code",
   "execution_count": null,
   "metadata": {},
   "outputs": [],
   "source": []
  }
 ],
 "metadata": {
  "kernelspec": {
   "display_name": "Python 3",
   "language": "python",
   "name": "python3"
  },
  "language_info": {
   "codemirror_mode": {
    "name": "ipython",
    "version": 3
   },
   "file_extension": ".py",
   "mimetype": "text/x-python",
   "name": "python",
   "nbconvert_exporter": "python",
   "pygments_lexer": "ipython3",
   "version": "3.7.3"
  }
 },
 "nbformat": 4,
 "nbformat_minor": 2
}
